{
 "cells": [
  {
   "cell_type": "code",
   "execution_count": 1,
   "metadata": {},
   "outputs": [
    {
     "data": {
      "text/plain": [
       "RayContext(dashboard_url='', python_version='3.7.13', ray_version='1.12.0', ray_commit='f18fc31c7562990955556899090f8e8656b48d2d', address_info={'node_ip_address': '127.0.0.1', 'raylet_ip_address': '127.0.0.1', 'redis_address': None, 'object_store_address': '/tmp/ray/session_2022-04-27_20-18-01_890960_37062/sockets/plasma_store', 'raylet_socket_name': '/tmp/ray/session_2022-04-27_20-18-01_890960_37062/sockets/raylet', 'webui_url': '', 'session_dir': '/tmp/ray/session_2022-04-27_20-18-01_890960_37062', 'metrics_export_port': 62245, 'gcs_address': '127.0.0.1:56093', 'address': '127.0.0.1:56093', 'node_id': '6987479fda732075fb6a091c336b4b11ecfd986980e5c1a7a10e832d'})"
      ]
     },
     "execution_count": 1,
     "metadata": {},
     "output_type": "execute_result"
    }
   ],
   "source": [
    "import ray\n",
    "ray.init()"
   ]
  },
  {
   "cell_type": "code",
   "execution_count": 2,
   "metadata": {},
   "outputs": [
    {
     "name": "stdout",
     "output_type": "stream",
     "text": [
      "错开时间测试\n",
      "\u001B[2m\u001B[36m(hello pid=37115)\u001B[0m 4\n",
      "\u001B[2m\u001B[36m(hello pid=37112)\u001B[0m 6\n",
      "\u001B[2m\u001B[36m(hello pid=37116)\u001B[0m 2\n",
      "\u001B[2m\u001B[36m(hello pid=37113)\u001B[0m 3\n",
      "\u001B[2m\u001B[36m(hello pid=37111)\u001B[0m 9\n",
      "\u001B[2m\u001B[36m(hello pid=37110)\u001B[0m 7\n",
      "\u001B[2m\u001B[36m(hello pid=37118)\u001B[0m 8\n",
      "\u001B[2m\u001B[36m(hello pid=37114)\u001B[0m 5\n",
      "\u001B[2m\u001B[36m(hello pid=37119)\u001B[0m 0\n",
      "\u001B[2m\u001B[36m(hello1 pid=37119)\u001B[0m hello1 0\n",
      "\u001B[2m\u001B[36m(hello pid=37117)\u001B[0m 1\n",
      "\u001B[2m\u001B[36m(hello1 pid=37110)\u001B[0m hello1 1\n",
      "\u001B[2m\u001B[36m(hello1 pid=37111)\u001B[0m hello1 2\n",
      "\u001B[2m\u001B[36m(hello1 pid=37117)\u001B[0m hello1 3\n",
      "\u001B[2m\u001B[36m(hello1 pid=37116)\u001B[0m hello1 4\n",
      "\u001B[2m\u001B[36m(hello1 pid=37113)\u001B[0m hello1 5\n",
      "\u001B[2m\u001B[36m(hello1 pid=37115)\u001B[0m hello1 6\n",
      "\u001B[2m\u001B[36m(hello1 pid=37119)\u001B[0m hello1 7\n"
     ]
    }
   ],
   "source": [
    "import time\n",
    "\n",
    "@ray.remote\n",
    "def hello(x):\n",
    "    time.sleep(1)\n",
    "    print(x)\n",
    "    return x\n",
    "\n",
    "# 运行10个异步进程\n",
    "l1 = [hello.remote(i) for i in range(10)]\n",
    "\n",
    "# 因为是异步，所以这个print会最先输出\n",
    "print('错开时间测试')\n",
    "\n",
    "@ray.remote\n",
    "def hello1(x):\n",
    "    time.sleep(x)\n",
    "    print('hello1',x)\n",
    "    return x\n",
    "\n",
    "# 运行10个异步进程\n",
    "l2 = [hello1.remote(i) for i in range(10)]"
   ]
  },
  {
   "cell_type": "code",
   "execution_count": 3,
   "metadata": {},
   "outputs": [
    {
     "name": "stdout",
     "output_type": "stream",
     "text": [
      "\u001B[2m\u001B[36m(hello1 pid=37112)\u001B[0m hello1 8\n",
      "\u001B[2m\u001B[36m(hello pid=37115)\u001B[0m 1\n",
      "\u001B[2m\u001B[36m(hello pid=37116)\u001B[0m 3\n",
      "\u001B[2m\u001B[36m(hello pid=37113)\u001B[0m 2\n",
      "\u001B[2m\u001B[36m(hello pid=37111)\u001B[0m 5\n",
      "\u001B[2m\u001B[36m(hello pid=37110)\u001B[0m 6\n",
      "\u001B[2m\u001B[36m(hello pid=37114)\u001B[0m 7\n",
      "\u001B[2m\u001B[36m(hello pid=37119)\u001B[0m 0\n",
      "\u001B[2m\u001B[36m(hello pid=37117)\u001B[0m 4\n",
      "\u001B[2m\u001B[36m(hello pid=37112)\u001B[0m 8\n",
      "\u001B[2m\u001B[36m(hello1 pid=37118)\u001B[0m hello1 9\n"
     ]
    },
    {
     "data": {
      "text/plain": [
       "[0, 1, 2, 3, 4, 5, 6, 7, 8, 9]"
      ]
     },
     "execution_count": 3,
     "metadata": {},
     "output_type": "execute_result"
    },
    {
     "name": "stdout",
     "output_type": "stream",
     "text": [
      "\u001B[2m\u001B[36m(hello pid=37119)\u001B[0m 9\n"
     ]
    }
   ],
   "source": [
    "l2 = [hello.remote(i) for i in range(10)]\n",
    "ray.get(l2)"
   ]
  },
  {
   "cell_type": "code",
   "execution_count": 15,
   "metadata": {},
   "outputs": [
    {
     "name": "stdout",
     "output_type": "stream",
     "text": [
      "4 total cost time 3.036397933959961\n"
     ]
    }
   ],
   "source": [
    "@ray.remote\n",
    "def add(x,y):\n",
    "    time.sleep(1)\n",
    "    return x + y\n",
    "\n",
    "now = time.time()\n",
    "\n",
    "s1 = add.remote(1,1)\n",
    "s2 = add.remote(s1,1)\n",
    "ans = add.remote(s2,1)\n",
    "print(ray.get(ans), 'total cost time',time.time() - now)\n",
    "\n",
    "\n"
   ]
  },
  {
   "cell_type": "code",
   "execution_count": 16,
   "metadata": {},
   "outputs": [
    {
     "name": "stdout",
     "output_type": "stream",
     "text": [
      "4 total cost time 2.0219039916992188\n"
     ]
    }
   ],
   "source": [
    "now = time.time()\n",
    "s1 = add.remote(1,1)\n",
    "s2 = add.remote(1,1)\n",
    "ans = add.remote(s1,s2)\n",
    "print(ray.get(ans), 'total cost time',time.time() - now)"
   ]
  },
  {
   "cell_type": "code",
   "execution_count": null,
   "metadata": {},
   "outputs": [],
   "source": []
  }
 ],
 "metadata": {
  "kernelspec": {
   "display_name": "Python 3 (ipykernel)",
   "language": "python",
   "name": "python3"
  },
  "language_info": {
   "codemirror_mode": {
    "name": "ipython",
    "version": 3
   },
   "file_extension": ".py",
   "mimetype": "text/x-python",
   "name": "python",
   "nbconvert_exporter": "python",
   "pygments_lexer": "ipython3",
   "version": "3.7.13"
  }
 },
 "nbformat": 4,
 "nbformat_minor": 1
}